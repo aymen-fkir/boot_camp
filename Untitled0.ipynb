{
  "nbformat": 4,
  "nbformat_minor": 0,
  "metadata": {
    "colab": {
      "provenance": []
    },
    "kernelspec": {
      "name": "python3",
      "display_name": "Python 3"
    },
    "language_info": {
      "name": "python"
    }
  },
  "cells": [
    {
      "cell_type": "code",
      "execution_count": 288,
      "metadata": {
        "id": "nKyzlffK4hOp"
      },
      "outputs": [],
      "source": [
        "import numpy as np\n",
        "import matplotlib.pyplot as plt"
      ]
    },
    {
      "cell_type": "code",
      "source": [
        "X1 = [0,1,0,1]\n",
        "X2 = [0,0,1,1]\n",
        "Y = [0,0,0,1]"
      ],
      "metadata": {
        "id": "s65P2KOb4jhm"
      },
      "execution_count": 289,
      "outputs": []
    },
    {
      "cell_type": "code",
      "source": [
        "w1_and = np.random.uniform()\n",
        "w2_and = np.random.uniform()\n",
        "b_and = np.random.uniform()\n",
        "\n",
        "w1_or = np.random.uniform()\n",
        "w2_or = np.random.uniform()\n",
        "b_or = np.random.uniform()\n",
        "\n",
        "w1_nand = np.random.uniform()\n",
        "w2_nand = np.random.uniform()\n",
        "b_nand = np.random.uniform()"
      ],
      "metadata": {
        "id": "uBHVqSNr4wji"
      },
      "execution_count": 290,
      "outputs": []
    },
    {
      "cell_type": "code",
      "source": [
        "weight_bias = [[w1_and,w2_and,b_and],[w1_or ,w2_or,b_or],[w1_nand ,w2_nand,b_nand]]"
      ],
      "metadata": {
        "id": "q_HWLCsD6vM7"
      },
      "execution_count": 291,
      "outputs": []
    },
    {
      "cell_type": "code",
      "source": [
        "weight_bias"
      ],
      "metadata": {
        "colab": {
          "base_uri": "https://localhost:8080/"
        },
        "id": "1mEe3VC8Dd0Z",
        "outputId": "ce570317-c7e4-4b9c-8dc6-9d4377e8f95f"
      },
      "execution_count": 292,
      "outputs": [
        {
          "output_type": "execute_result",
          "data": {
            "text/plain": [
              "[[0.7659889058150491, 0.7411000237411066, 0.6453443491662669],\n",
              " [0.14961169905117855, 0.5962287755695054, 0.37221372956667853],\n",
              " [0.2535448429202355, 0.4760857450289284, 0.7650316986193608]]"
            ]
          },
          "metadata": {},
          "execution_count": 292
        }
      ]
    },
    {
      "cell_type": "code",
      "source": [
        "def sigmoid(x):\n",
        "    return 1.0/(1.0+np.exp(-x))"
      ],
      "metadata": {
        "id": "8hs65D63BWI7"
      },
      "execution_count": 293,
      "outputs": []
    },
    {
      "cell_type": "code",
      "source": [
        "def forward(weight_bias,x_1,x_2):\n",
        "    a = sigmoid(weight_bias[0][0]*x_1+weight_bias[0][1]*x_2+weight_bias[0][2])\n",
        "    b = sigmoid(weight_bias[1][0]*x_1+weight_bias[1][1]*x_2+weight_bias[2][2])\n",
        "    return sigmoid(a*weight_bias[2][0]+b*weight_bias[2][1]+weight_bias[2][2])"
      ],
      "metadata": {
        "id": "UWhn2Oh-GYXa"
      },
      "execution_count": 294,
      "outputs": []
    },
    {
      "cell_type": "code",
      "source": [
        "def cost(X1,X2,weight_bias,Y):\n",
        "    result = 0.0\n",
        "    for i in range(len(Y)):\n",
        "        pred = forward(weight_bias,X1[i],X2[i])\n",
        "        d = Y[i] - pred\n",
        "        result += d * d\n",
        "    result /= len(Y)\n",
        "    return result"
      ],
      "metadata": {
        "id": "ozN-g_3K6KqB"
      },
      "execution_count": 295,
      "outputs": []
    },
    {
      "cell_type": "code",
      "source": [
        "def finite_difference(weight_bias,eps,X1,X2,Y):\n",
        "\n",
        "   dweight_dbias = []\n",
        "   c = cost(X1,X2,weight_bias,Y)\n",
        "   for i in range(len(weight_bias)):\n",
        "    temp = []\n",
        "    for j in range(len(weight_bias[i])):\n",
        "      saved_val = weight_bias[i][j]\n",
        "      weight_bias[i][j]+=eps\n",
        "      dwb = (cost(X1,X2,weight_bias,Y) - c)/eps\n",
        "      weight_bias[i][j] = saved_val\n",
        "      temp.append(dwb)\n",
        "    dweight_dbias.append(temp)\n",
        "   return dweight_dbias"
      ],
      "metadata": {
        "id": "MqS0LI2c7g0I"
      },
      "execution_count": 296,
      "outputs": []
    },
    {
      "cell_type": "code",
      "source": [
        "def update(lr,dweight_dbias,weight_bias):\n",
        "  for i in range(len(weight_bias)):\n",
        "    for j in range(len(weight_bias[i])):\n",
        "      weight_bias[i][j] -= lr*dweight_dbias[i][j]\n",
        "  return weight_bias"
      ],
      "metadata": {
        "id": "l5dEtkPX_O_q"
      },
      "execution_count": 297,
      "outputs": []
    },
    {
      "cell_type": "code",
      "source": [
        "eps = 1e-2\n",
        "lr = 1e-2\n",
        "arr = []\n",
        "for i in range(50000):\n",
        "    dweight_dbias= finite_difference(weight_bias,eps,X1,X2,Y)\n",
        "    weight_bias = update(lr,dweight_dbias,weight_bias)\n",
        "    arr.append(cost(X1,X2,weight_bias,Y))\n",
        "print(arr[-1])"
      ],
      "metadata": {
        "colab": {
          "base_uri": "https://localhost:8080/"
        },
        "id": "ik6WMli0AoDM",
        "outputId": "b14177e9-0eef-4631-fae4-9966df26a82d"
      },
      "execution_count": 301,
      "outputs": [
        {
          "output_type": "stream",
          "name": "stdout",
          "text": [
            "0.006661062802083196\n"
          ]
        }
      ]
    },
    {
      "cell_type": "code",
      "source": [
        "plt.plot(arr)"
      ],
      "metadata": {
        "colab": {
          "base_uri": "https://localhost:8080/",
          "height": 447
        },
        "id": "1I-4Fin8Davs",
        "outputId": "b2b0e46d-67e4-4b0f-cb58-11b0cd5b7bdc"
      },
      "execution_count": 302,
      "outputs": [
        {
          "output_type": "execute_result",
          "data": {
            "text/plain": [
              "[<matplotlib.lines.Line2D at 0x7c94e77c3d60>]"
            ]
          },
          "metadata": {},
          "execution_count": 302
        },
        {
          "output_type": "display_data",
          "data": {
            "text/plain": [
              "<Figure size 640x480 with 1 Axes>"
            ],
            "image/png": "[encoded data removed]"
          },
          "metadata": {}
        }
      ]
    },
    {
      "cell_type": "code",
      "source": [
        "for i in range(2):\n",
        "  for j in range(2):\n",
        "    print(f\"{i} and {j} = {forward(weight_bias,i,j)}\")"
      ],
      "metadata": {
        "colab": {
          "base_uri": "https://localhost:8080/"
        },
        "id": "YUm0cRwBEpsm",
        "outputId": "17d8d1cb-7f9e-4889-9cc4-e3c23e9331d2"
      },
      "execution_count": 304,
      "outputs": [
        {
          "output_type": "stream",
          "name": "stdout",
          "text": [
            "0 and 0 = 0.01954411362580879\n",
            "0 and 1 = 0.07927899053458154\n",
            "1 and 0 = 0.0793190824511974\n",
            "1 and 1 = 0.8830145152173479\n"
          ]
        }
      ]
    },
    {
      "cell_type": "code",
      "source": [],
      "metadata": {
        "id": "eFw8WR8YF5Dj"
      },
      "execution_count": 300,
      "outputs": []
    }
  ]
}