{
 "cells": [
  {
   "cell_type": "code",
   "execution_count": 91,
   "metadata": {},
   "outputs": [],
   "source": [
    "import numpy as np\n",
    "import pandas as pd\n",
    "import matplotlib.pyplot as plt"
   ]
  },
  {
   "cell_type": "code",
   "execution_count": 92,
   "metadata": {},
   "outputs": [],
   "source": [
    "x = [[0,0],[0,1],[1,0],[1,1]]\n",
    "y = [0,0,0,1]"
   ]
  },
  {
   "cell_type": "code",
   "execution_count": 93,
   "metadata": {},
   "outputs": [],
   "source": [
    "np.random.seed(69)\n",
    "w1 = np.random.uniform()\n",
    "w2 = np.random.uniform()\n",
    "b = np.random.uniform()"
   ]
  },
  {
   "cell_type": "code",
   "execution_count": 94,
   "metadata": {},
   "outputs": [],
   "source": [
    "def sigmoid(inp):\n",
    "    return 1/(1+np.exp(-inp))"
   ]
  },
  {
   "cell_type": "code",
   "execution_count": 95,
   "metadata": {},
   "outputs": [],
   "source": [
    "def costs(x,y,w1,w2,b):\n",
    "    result = 0\n",
    "    for i in range(4):\n",
    "        output = sigmoid(x[i][0]*w1 +x[i][1]*w2+b)\n",
    "        error = y[i] - output\n",
    "        result += error**2   \n",
    "    result /= 4      \n",
    "    return result "
   ]
  },
  {
   "cell_type": "code",
   "execution_count": 96,
   "metadata": {},
   "outputs": [],
   "source": [
    "eps = 1e-3\n",
    "lr = 1e-1\n",
    "epoch = 10000\n",
    "c = []\n",
    "for i in range(epoch):\n",
    "    cost = costs(x,y,w1,w2,b)\n",
    "    c.append(cost)\n",
    "    dw1 = (costs(x,y,w1+eps,w2,b) - cost)/eps\n",
    "    w1 -= lr*dw1\n",
    "\n",
    "    cost = costs(x,y,w1,w2,b)\n",
    "    dw2 = (costs(x,y,w1,w2+eps,b) - cost)/eps\n",
    "    w2 -= lr*dw2\n",
    "\n",
    "    cost = costs(x,y,w1,w2,b)\n",
    "    db = (costs(x,y,w1,w2,b+eps) - cost)/eps\n",
    "    b -= lr*db\n",
    "    "
   ]
  },
  {
   "cell_type": "code",
   "execution_count": 97,
   "metadata": {},
   "outputs": [
    {
     "data": {
      "text/plain": [
       "[<matplotlib.lines.Line2D at 0x2200da01010>]"
      ]
     },
     "execution_count": 97,
     "metadata": {},
     "output_type": "execute_result"
    },
    {
     "data": {
      "image/png": "[encoded data removed]",
      "text/plain": [
       "<Figure size 640x480 with 1 Axes>"
      ]
     },
     "metadata": {},
     "output_type": "display_data"
    }
   ],
   "source": [
    "plt.plot(c)"
   ]
  },
  {
   "cell_type": "code",
   "execution_count": 98,
   "metadata": {},
   "outputs": [
    {
     "data": {
      "text/plain": [
       "0.005679742377127471"
      ]
     },
     "execution_count": 98,
     "metadata": {},
     "output_type": "execute_result"
    }
   ],
   "source": [
    "c[-1]"
   ]
  },
  {
   "cell_type": "code",
   "execution_count": 99,
   "metadata": {},
   "outputs": [
    {
     "name": "stdout",
     "output_type": "stream",
     "text": [
      "0 and 0 = 0.0008454497229368046\n",
      "0 and 1 = 0.0813857925359065\n",
      "1 and 0 = 0.08140122728747305\n",
      "1 and 1 = 0.9027070404645997\n"
     ]
    }
   ],
   "source": [
    "for i in range(2):\n",
    "    for j in range(2):\n",
    "        print(f\"{i} and {j} = {sigmoid(i*w1+j*w2+b)}\")"
   ]
  }
 ],
 "metadata": {
  "kernelspec": {
   "display_name": "Python 3",
   "language": "python",
   "name": "python3"
  },
  "language_info": {
   "codemirror_mode": {
    "name": "ipython",
    "version": 3
   },
   "file_extension": ".py",
   "mimetype": "text/x-python",
   "name": "python",
   "nbconvert_exporter": "python",
   "pygments_lexer": "ipython3",
   "version": "3.11.0"
  }
 },
 "nbformat": 4,
 "nbformat_minor": 2
}
